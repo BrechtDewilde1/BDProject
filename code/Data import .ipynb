{
 "cells": [
  {
   "cell_type": "markdown",
   "metadata": {},
   "source": [
    "**Library import**"
   ]
  },
  {
   "cell_type": "code",
   "execution_count": 1,
   "metadata": {},
   "outputs": [],
   "source": [
    "import pandas as pd\n",
    "from sklearn.ensemble import IsolationForest"
   ]
  },
  {
   "cell_type": "markdown",
   "metadata": {},
   "source": [
    "**Data import**"
   ]
  },
  {
   "cell_type": "code",
   "execution_count": 2,
   "metadata": {},
   "outputs": [],
   "source": [
    "# all the different dataframes are putted inside a list\n",
    "# list is then concatenated to one data set\n",
    "# each dataset does not have colnames\n",
    "\n",
    "path = r\"C:\\Users\\BrechtDewilde\\Documents\\Github\\BDProject\\data\"\n",
    "data_set_locations = [path + \"\\\\batch\" + str(i) + \".DAT\" for i in range(1, 11)]\n",
    "data_sets = [pd.read_csv(i, header = None) for i in data_set_locations]\n",
    "data = pd.concat(data_sets)\n",
    "data.rename(columns = {list(data)[0]:'gas'}, inplace=True)\n",
    "data.rename(columns = {list(data)[1]:'concentration'}, inplace=True)"
   ]
  },
  {
   "cell_type": "markdown",
   "metadata": {},
   "source": [
    "**Data cleaning**"
   ]
  },
  {
   "cell_type": "code",
   "execution_count": 3,
   "metadata": {},
   "outputs": [
    {
     "data": {
      "text/plain": [
       "Series([], dtype: int64)"
      ]
     },
     "execution_count": 3,
     "metadata": {},
     "output_type": "execute_result"
    }
   ],
   "source": [
    "# how much missing values do we have?\n",
    "data.isna().sum()[data.isna().sum() > 0]"
   ]
  },
  {
   "cell_type": "code",
   "execution_count": 5,
   "metadata": {},
   "outputs": [
    {
     "name": "stdout",
     "output_type": "stream",
     "text": [
      "2399 outliers where removed from the dataset.\n"
     ]
    }
   ],
   "source": [
    "# Returns -1 for outliers and 1 for inliers.\n",
    "clf = IsolationForest(behaviour = 'new', max_samples=100, random_state = 1, contamination= 'auto')\n",
    "preds = clf.fit_predict(data[data.columns[2:]])\n",
    "positions = []\n",
    "for pos, val in enumerate(preds):\n",
    "    if val == -1:\n",
    "        positions.append(pos)\n",
    "data = data.drop(data.index[positions])\n",
    "print(\"{} outliers where removed from the dataset.\".format(list(preds).count(-1)))"
   ]
  },
  {
   "cell_type": "markdown",
   "metadata": {},
   "source": [
    "**Export data**"
   ]
  },
  {
   "cell_type": "code",
   "execution_count": 6,
   "metadata": {},
   "outputs": [],
   "source": [
    " data.to_csv('data.csv')"
   ]
  }
 ],
 "metadata": {
  "kernelspec": {
   "display_name": "Python 3",
   "language": "python",
   "name": "python3"
  },
  "language_info": {
   "codemirror_mode": {
    "name": "ipython",
    "version": 3
   },
   "file_extension": ".py",
   "mimetype": "text/x-python",
   "name": "python",
   "nbconvert_exporter": "python",
   "pygments_lexer": "ipython3",
   "version": "3.7.3"
  }
 },
 "nbformat": 4,
 "nbformat_minor": 2
}
